{
 "cells": [
  {
   "cell_type": "code",
   "execution_count": 22,
   "id": "b6f8827c",
   "metadata": {},
   "outputs": [],
   "source": [
    "# Imports\n",
    "import pandas as pd\n",
    "import numpy as np\n",
    "import ast\n",
    "import pickle\n",
    "from sklearn.feature_extraction.text import CountVectorizer\n",
    "from sklearn.metrics.pairwise import cosine_similarity"
   ]
  },
  {
   "cell_type": "code",
   "execution_count": 29,
   "id": "b44a4244",
   "metadata": {},
   "outputs": [],
   "source": [
    "# Load and merge datasets\n",
    "def load_and_merge_data(movies_path, credits_path):\n",
    "    movies_df = pd.read_csv(movies_path)\n",
    "    credits_df = pd.read_csv(credits_path)\n",
    "    \n",
    "    credits_df.rename(columns={'movie_id': 'id'}, inplace=True)\n",
    "    merged_df = movies_df.merge(credits_df, on='id')\n",
    "    \n",
    "    # Fix title column if renamed during merge\n",
    "    if 'title_x' in merged_df.columns:\n",
    "        merged_df.rename(columns={'title_x': 'title'}, inplace=True)\n",
    "    elif 'title_y' in merged_df.columns:\n",
    "        merged_df.rename(columns={'title_y': 'title'}, inplace=True)\n",
    "    \n",
    "    return merged_df\n"
   ]
  },
  {
   "cell_type": "code",
   "execution_count": 30,
   "id": "19ddad25",
   "metadata": {},
   "outputs": [],
   "source": [
    "# Parse features\n",
    "def parse_features(df):\n",
    "    def convert(obj):\n",
    "        try:\n",
    "            L = [i['name'] for i in ast.literal_eval(obj)]\n",
    "        except:\n",
    "            L = []\n",
    "        return L\n",
    "\n",
    "    def get_top_3_cast(obj):\n",
    "        try:\n",
    "            L = [i['name'] for i in ast.literal_eval(obj)]\n",
    "            return L[:3]\n",
    "        except:\n",
    "            return []\n",
    "\n",
    "    def get_director(obj):\n",
    "        try:\n",
    "            for i in ast.literal_eval(obj):\n",
    "                if i['job'] == 'Director':\n",
    "                    return [i['name']]\n",
    "            return []\n",
    "        except:\n",
    "            return []\n",
    "\n",
    "    df['genres'] = df['genres'].apply(convert)\n",
    "    df['keywords'] = df['keywords'].apply(convert)\n",
    "    df['cast'] = df['cast'].apply(get_top_3_cast)\n",
    "    df['crew'] = df['crew'].apply(get_director)\n",
    "\n",
    "    df['overview'] = df['overview'].fillna('')\n",
    "    df['tags'] = df['overview'] + ' ' + df['genres'].apply(lambda x: ' '.join(x)) + ' ' + \\\n",
    "                 df['keywords'].apply(lambda x: ' '.join(x)) + ' ' + \\\n",
    "                 df['cast'].apply(lambda x: ' '.join(x)) + ' ' + \\\n",
    "                 df['crew'].apply(lambda x: ' '.join(x))\n",
    "    df['tags'] = df['tags'].str.lower()\n",
    "\n",
    "    return df[['id', 'title', 'tags']]"
   ]
  },
  {
   "cell_type": "code",
   "execution_count": 31,
   "id": "9d75d9cb",
   "metadata": {},
   "outputs": [],
   "source": [
    "# Compute similarity matrix\n",
    "def compute_similarity(df):\n",
    "    cv = CountVectorizer(max_features=5000, stop_words='english')\n",
    "    vectors = cv.fit_transform(df['tags']).toarray()\n",
    "    similarity = cosine_similarity(vectors)\n",
    "    return similarity"
   ]
  },
  {
   "cell_type": "code",
   "execution_count": 32,
   "id": "898f099b",
   "metadata": {},
   "outputs": [
    {
     "name": "stdout",
     "output_type": "stream",
     "text": [
      "Loading and merging data...\n",
      "Parsing features...\n",
      "Computing similarity matrix...\n",
      "Saving files...\n",
      "Done. Files saved: movie_list.pkl and similarity.pkl.\n"
     ]
    }
   ],
   "source": [
    "# Main pipeline\n",
    "def main():\n",
    "    movies_path = 'data/tmdb_5000_movies.csv'\n",
    "    credits_path = 'data/tmdb_5000_credits.csv'\n",
    "\n",
    "    print(\"Loading and merging data...\")\n",
    "    df = load_and_merge_data(movies_path, credits_path)\n",
    "\n",
    "    print(\"Parsing features...\")\n",
    "    df = parse_features(df)\n",
    "\n",
    "    # Reduce number of movies for optimized memory usage\n",
    "    N = 500  \n",
    "    df_small = df.head(N)\n",
    "\n",
    "    print(\"Computing similarity matrix...\")\n",
    "    similarity = compute_similarity(df_small)\n",
    "\n",
    "    print(\"Saving files...\")\n",
    "    with open('movie_list.pkl', 'wb') as f:\n",
    "        pickle.dump(df_small, f)\n",
    "\n",
    "    with open('similarity.pkl', 'wb') as f:\n",
    "        pickle.dump(similarity, f)\n",
    "\n",
    "    print(\"Done. Files saved: movie_list.pkl and similarity.pkl.\")\n",
    "\n",
    "main()"
   ]
  }
 ],
 "metadata": {
  "kernelspec": {
   "display_name": "Python 3",
   "language": "python",
   "name": "python3"
  },
  "language_info": {
   "codemirror_mode": {
    "name": "ipython",
    "version": 3
   },
   "file_extension": ".py",
   "mimetype": "text/x-python",
   "name": "python",
   "nbconvert_exporter": "python",
   "pygments_lexer": "ipython3",
   "version": "3.13.3"
  }
 },
 "nbformat": 4,
 "nbformat_minor": 5
}
